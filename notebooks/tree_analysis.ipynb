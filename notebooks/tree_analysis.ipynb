{
 "cells": [
  {
   "cell_type": "markdown",
   "metadata": {},
   "source": [
    "Get data from tree file. Ref: https://dendropy.org/schemas/nexus#treelist-get"
   ]
  },
  {
   "cell_type": "code",
   "execution_count": 10,
   "metadata": {},
   "outputs": [
    {
     "name": "stdout",
     "output_type": "stream",
     "text": [
      "((NC_045512.2_B_2019.988:0.6557721577352478,(((OP733821.1_BQ.1.1_2022.833:0.04527000655465174,OQ253610.1_XBB.1.5_2022.856:0.06827000655456261):2.4402577806449153,(OK341237.1_B.1.1.519_2021.25:0.03379367852554527,OL947440.1_B.45_2021.9167:0.7004936785255369):0.8687341086739382):0.4041080760032836,(OQ050563.1_B.1.22_2020.417:0.1820095025220443,(MW243586.1_B.1.184_2020.583:0.0950216469340428,MW474188.1_B.1.188_2020.67:0.1820216469340319):0.25298785558816883):0.2916263606806391):0.6111362945324244):0.11128046401429881,OM251163.1_B1.1.524_2021.167:1.9460526217494065)\n"
     ]
    }
   ],
   "source": [
    "import dendropy\n",
    "from dendropy.calculate import treecompare\n",
    "\n",
    "distances = []\n",
    "taxa = dendropy.TaxonNamespace()\n",
    "# mle_tree = dendropy.Tree.get(\n",
    "#     path='pythonidae.mle.nex',\n",
    "#     schema='nexus',\n",
    "#     taxon_namespace=taxa)\n",
    "burnin = 20\n",
    "source_files = [\n",
    "        open(\"/Users/oswald/Downloads/Allsequences_aligned3.trees\", \"r\"), # Note: for 'Tree.yield_from_files',\n",
    "        ]\n",
    "tree_yielder = dendropy.Tree.yield_from_files(\n",
    "        files=source_files,\n",
    "        schema='nexus',\n",
    "        taxon_namespace=taxa,\n",
    "        )\n",
    "count = 0\n",
    "tree = next(iter(tree_yielder))\n",
    "print(tree)\n",
    "# for tree_idx, mcmc_tree in enumerate(tree_yielder):\n",
    "#     if tree_idx < burnin:\n",
    "#         # skip burnin\n",
    "#         continue\n",
    "#     count += 1\n",
    "#     print(count)\n",
    "    # distances.append(treecompare.symmetric_difference(mle_tree, mcmc_tree))\n",
    "# print(\"Mean symmetric distance between MLE and MCMC trees: %d\"\n",
    "        # % float(sum(distances)/len(distances)))"
   ]
  },
  {
   "cell_type": "code",
   "execution_count": 14,
   "metadata": {},
   "outputs": [
    {
     "name": "stdout",
     "output_type": "stream",
     "text": [
      "<Node object at 0x7faf3ed15d30: 'None' (None)>\n"
     ]
    }
   ],
   "source": [
    "print(tree.seed_node)"
   ]
  }
 ],
 "metadata": {
  "kernelspec": {
   "display_name": "Python 3",
   "language": "python",
   "name": "python3"
  },
  "language_info": {
   "codemirror_mode": {
    "name": "ipython",
    "version": 3
   },
   "file_extension": ".py",
   "mimetype": "text/x-python",
   "name": "python",
   "nbconvert_exporter": "python",
   "pygments_lexer": "ipython3",
   "version": "3.8.8"
  },
  "orig_nbformat": 4
 },
 "nbformat": 4,
 "nbformat_minor": 2
}
