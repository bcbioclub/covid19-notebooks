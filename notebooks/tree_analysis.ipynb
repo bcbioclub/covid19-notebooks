{
 "cells": [
  {
   "cell_type": "markdown",
   "metadata": {},
   "source": [
    "Get data from tree file. Ref: https://dendropy.org/schemas/nexus#treelist-get"
   ]
  },
  {
   "cell_type": "code",
   "execution_count": 34,
   "metadata": {},
   "outputs": [
    {
     "name": "stdout",
     "output_type": "stream",
     "text": [
      "((OQ050563.1_B.1.22_2020.417:0.05477482949587742,((OK341237.1_B.1.1.519_2021.25:0.24273384217157012,((OP733821.1_BQ.1.1_2022.833:0.055392268122990224,OQ253610.1_XBB.1.5_2022.856:0.0783922681229011):0.9026831518251434,OL947440.1_B.45_2021.9167:0.04177541994804157):0.8676584222235202):0.6450263355249595,(OM251163.1_B1.1.524_2021.167:0.607229643678973,(MW243586.1_B.1.184_2020.583:0.017641013542423423,MW474188.1_B.1.188_2020.67:0.10464101354241251):0.005588630136716954):0.1975305340174729):1.4651799431497636e-05):0.4031892017313061,NC_045512.2_B_2019.988:0.028964031227323606)\n"
     ]
    }
   ],
   "source": [
    "import dendropy\n",
    "from dendropy.calculate import treecompare\n",
    "\n",
    "distances = []\n",
    "taxa = dendropy.TaxonNamespace()\n",
    "# mle_tree = dendropy.Tree.get(\n",
    "#     path='pythonidae.mle.nex',\n",
    "#     schema='nexus',\n",
    "#     taxon_namespace=taxa)\n",
    "burnin = 20\n",
    "source_files = [\n",
    "        open(\"/Users/oswald/Downloads/Allsequences_aligned3.trees\", \"r\"), # Note: for 'Tree.yield_from_files',\n",
    "        ]\n",
    "tree_yielder = dendropy.Tree.yield_from_files(\n",
    "        files=source_files,\n",
    "        schema='nexus',\n",
    "        taxon_namespace=taxa,\n",
    "        extract_comment_metadata=True\n",
    "        )\n",
    "count = 0\n",
    "iter_tree = iter(tree_yielder)\n",
    "tree = next(iter_tree)\n",
    "tree = next(iter_tree)\n",
    "print(tree)\n",
    "# for tree_idx, mcmc_tree in enumerate(tree_yielder):\n",
    "#     if tree_idx < burnin:\n",
    "#         # skip burnin\n",
    "#         continue\n",
    "#     count += 1\n",
    "#     print(count)\n",
    "    # distances.append(treecompare.symmetric_difference(mle_tree, mcmc_tree))\n",
    "# print(\"Mean symmetric distance between MLE and MCMC trees: %d\"\n",
    "        # % float(sum(distances)/len(distances)))"
   ]
  },
  {
   "cell_type": "code",
   "execution_count": 16,
   "metadata": {},
   "outputs": [
    {
     "name": "stdout",
     "output_type": "stream",
     "text": [
      "__class__\n",
      "__copy__\n",
      "__deepcopy__\n",
      "__delattr__\n",
      "__dict__\n",
      "__dir__\n",
      "__doc__\n",
      "__eq__\n",
      "__format__\n",
      "__ge__\n",
      "__getattribute__\n",
      "__gt__\n",
      "__hash__\n",
      "__init__\n",
      "__init_subclass__\n",
      "__iter__\n",
      "__le__\n",
      "__lt__\n",
      "__module__\n",
      "__ne__\n",
      "__new__\n",
      "__reduce__\n",
      "__reduce_ex__\n",
      "__repr__\n",
      "__setattr__\n",
      "__sizeof__\n",
      "__str__\n",
      "__subclasshook__\n",
      "__weakref__\n",
      "_as_newick_string\n",
      "_child_nodes\n",
      "_convert_node_to_root_polytomy\n",
      "_edge\n",
      "_format_node\n",
      "_get_annotations\n",
      "_get_bipartition\n",
      "_get_edge\n",
      "_get_edge_length\n",
      "_get_indented_form\n",
      "_get_indented_form_line\n",
      "_get_label\n",
      "_get_leafset_bitmask\n",
      "_get_node_token\n",
      "_get_parent_node\n",
      "_get_split_bitmask\n",
      "_get_tree_leafset_bitmask\n",
      "_has_annotations\n",
      "_label\n",
      "_parent_node\n",
      "_preorder_list_manip\n",
      "_set_annotations\n",
      "_set_bipartition\n",
      "_set_edge\n",
      "_set_edge_length\n",
      "_set_label\n",
      "_set_leafset_bitmask\n",
      "_set_parent_node\n",
      "_set_split_bitmask\n",
      "_set_tree_leafset_bitmask\n",
      "_write_indented_form\n",
      "_write_indented_form_line\n",
      "_write_newick\n",
      "add_child\n",
      "adjacent_nodes\n",
      "age\n",
      "age_order_iter\n",
      "ageorder_iter\n",
      "ancestor_iter\n",
      "annotations\n",
      "apply\n",
      "bipartition\n",
      "child_edge_iter\n",
      "child_edges\n",
      "child_node_iter\n",
      "child_nodes\n",
      "clear_child_nodes\n",
      "clone\n",
      "collapse_clade\n",
      "collapse_conflicting\n",
      "collapse_neighborhood\n",
      "comments\n",
      "copy_annotations_from\n",
      "deep_copy_annotations_from\n",
      "description\n",
      "distance_from_root\n",
      "distance_from_tip\n",
      "edge\n",
      "edge_factory\n",
      "edge_length\n",
      "extract_subtree\n",
      "get_adjacent_nodes\n",
      "get_incident_edges\n",
      "has_annotations\n",
      "incident_edges\n",
      "inorder_iter\n",
      "insert_child\n",
      "insert_new_child\n",
      "is_internal\n",
      "is_leaf\n",
      "label\n",
      "leaf_iter\n",
      "leaf_nodes\n",
      "leafset_as_bitstring\n",
      "leafset_bitmask\n",
      "level\n",
      "level_order_iter\n",
      "levelorder_iter\n",
      "new_child\n",
      "num_child_nodes\n",
      "parent_node\n",
      "postorder_internal_node_iter\n",
      "postorder_iter\n",
      "preorder_internal_node_iter\n",
      "preorder_iter\n",
      "reinsert_nodes\n",
      "remove_child\n",
      "reversible_remove_child\n",
      "set_child_nodes\n",
      "set_children\n",
      "sibling_nodes\n",
      "sister_nodes\n",
      "split_as_bitstring\n",
      "split_bitmask\n",
      "taxon\n",
      "taxon_namespace_scoped_copy\n",
      "tree_leafset_bitmask\n"
     ]
    }
   ],
   "source": [
    "for attr in dir(tree.seed_node):\n",
    "    print(attr)"
   ]
  },
  {
   "cell_type": "code",
   "execution_count": 23,
   "metadata": {},
   "outputs": [
    {
     "name": "stdout",
     "output_type": "stream",
     "text": [
      "AnnotationSet([])\n"
     ]
    }
   ],
   "source": [
    "print(tree.seed_node.edge.annotations)"
   ]
  },
  {
   "cell_type": "code",
   "execution_count": null,
   "metadata": {},
   "outputs": [],
   "source": []
  },
  {
   "cell_type": "code",
   "execution_count": null,
   "metadata": {},
   "outputs": [],
   "source": []
  },
  {
   "cell_type": "code",
   "execution_count": null,
   "metadata": {},
   "outputs": [],
   "source": []
  },
  {
   "cell_type": "code",
   "execution_count": null,
   "metadata": {},
   "outputs": [],
   "source": []
  }
 ],
 "metadata": {
  "kernelspec": {
   "display_name": "Python 3",
   "language": "python",
   "name": "python3"
  },
  "language_info": {
   "codemirror_mode": {
    "name": "ipython",
    "version": 3
   },
   "file_extension": ".py",
   "mimetype": "text/x-python",
   "name": "python",
   "nbconvert_exporter": "python",
   "pygments_lexer": "ipython3",
   "version": "3.8.8"
  },
  "orig_nbformat": 4
 },
 "nbformat": 4,
 "nbformat_minor": 2
}
