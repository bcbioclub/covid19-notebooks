{
 "cells": [
  {
   "cell_type": "code",
   "execution_count": 2,
   "metadata": {},
   "outputs": [],
   "source": [
    "# CFLAGS='-I/usr/local/Cellar/nlopt/2.7.1/include' LDFLAGS='-L/usr/local/Cellar/nlopt/2.7.1/lib' pip install pybdei\n",
    "import pybdei"
   ]
  },
  {
   "cell_type": "code",
   "execution_count": 4,
   "metadata": {},
   "outputs": [],
   "source": [
    "# https://pypi.org/project/pybdei/\n",
    "\n",
    "import dendropy\n",
    "post_trees = dendropy.TreeList()\n",
    "post_trees.read(\n",
    "  file=open(\"/Users/oswald/Documents/git/covid19-notebooks/notebooks/NZ_genomes_V3_SC_CC.tre\", \"r\"), schema=\"nexus\"\n",
    ")\n",
    "post_trees.write(\n",
    "    path=\"NZ_genomes_V3_SC_CC.newick\",\n",
    "    schema=\"newick\")"
   ]
  },
  {
   "cell_type": "code",
   "execution_count": 3,
   "metadata": {},
   "outputs": [
    {
     "name": "stdout",
     "output_type": "stream",
     "text": [
      "small.newick\n",
      "Inferred transition rate is 2.364091814667514 None\n",
      "Inferred transmission rate is 1.4924014848910436 None\n",
      "Inferred removal rate is 0.1 None\n",
      "Inferred reproductive number is 14.924014848910435\n",
      "Inferred incubation period is 0.4229954157430387\n",
      "Inferred infectious time is 10.0\n",
      "Converged in 0.6700000166893005 s and 498 iterations\n"
     ]
    }
   ],
   "source": [
    "from pybdei import infer\n",
    "# Path to the tree in newick format\n",
    "# we can do something like this for a tree for each of:\n",
    "# Taiwan, Greenland, Iceland, Japan, Hawaii, & Alaska, New Zealand + Austraila\n",
    "\n",
    "tree = \"small.newick\"\n",
    "print(tree)\n",
    "result, time = infer(nwk=tree, psi=0.1, log_level=10)\n",
    "print('Inferred transition rate is', result.mu, result.mu_CI)\n",
    "print('Inferred transmission rate is', result.la, result.la_CI)\n",
    "print('Inferred removal rate is', result.psi, result.psi_CI)\n",
    "print('Inferred reproductive number is', result.R_naught)\n",
    "print('Inferred incubation period is', result.incubation_period)\n",
    "print('Inferred infectious time is', result.infectious_time)\n",
    "print('Converged in', time.CPU_time, 's and', time.iterations, 'iterations')"
   ]
  },
  {
   "cell_type": "code",
   "execution_count": 1,
   "metadata": {},
   "outputs": [
    {
     "name": "stdout",
     "output_type": "stream",
     "text": [
      "Help on function infer in module pybdei:\n",
      "\n",
      "infer(nwk, start=None, upper_bounds=None, pi_E=-1, mu=-1, la=-1, psi=-1, p=-1, T=0.0, u=-1, CI_repetitions=0, threads=1, log_level=2, u_policy='mean', **kwargs)\n",
      "    Infer BDEI parameters from a phylogenetic tree.\n",
      "\n"
     ]
    }
   ],
   "source": [
    "from pybdei import infer\n",
    "help(infer)"
   ]
  }
 ],
 "metadata": {
  "kernelspec": {
   "display_name": "Python 3",
   "language": "python",
   "name": "python3"
  },
  "language_info": {
   "codemirror_mode": {
    "name": "ipython",
    "version": 3
   },
   "file_extension": ".py",
   "mimetype": "text/x-python",
   "name": "python",
   "nbconvert_exporter": "python",
   "pygments_lexer": "ipython3",
   "version": "3.8.8"
  }
 },
 "nbformat": 4,
 "nbformat_minor": 2
}
