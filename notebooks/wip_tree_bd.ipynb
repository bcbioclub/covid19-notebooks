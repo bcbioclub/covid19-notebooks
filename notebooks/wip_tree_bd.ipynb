{
 "cells": [
  {
   "cell_type": "code",
   "execution_count": 2,
   "metadata": {},
   "outputs": [],
   "source": [
    "# CFLAGS='-I/usr/local/Cellar/nlopt/2.7.1/include' LDFLAGS='-L/usr/local/Cellar/nlopt/2.7.1/lib' pip install pybdei\n",
    "import pybdei"
   ]
  },
  {
   "cell_type": "code",
   "execution_count": 4,
   "metadata": {},
   "outputs": [],
   "source": [
    "# https://pypi.org/project/pybdei/\n",
    "\n",
    "import dendropy\n",
    "post_trees = dendropy.TreeList()\n",
    "post_trees.read(\n",
    "  file=open(\"/Users/oswald/Documents/git/covid19-notebooks/notebooks/NZ_genomes_V3_SC_CC.tre\", \"r\"), schema=\"nexus\"\n",
    ")\n",
    "post_trees.write(\n",
    "    path=\"NZ_genomes_V3_SC_CC.newick\",\n",
    "    schema=\"newick\")"
   ]
  },
  {
   "cell_type": "code",
   "execution_count": 6,
   "metadata": {},
   "outputs": [],
   "source": [
    "from pybdei import infer\n",
    "# Path to the tree in newick format\n",
    "tree = \"NZ_genomes_V3_SC_CC.newick\"\n",
    "result, time = infer(nwk=tree, mu=0.1, CI_repetitions=2)\n",
    "print('Inferred transition rate is', result.mu, result.mu_CI)\n",
    "print('Inferred transmission rate is', result.la, result.la_CI)\n",
    "print('Inferred removal rate is', result.psi, result.psi_CI)\n",
    "print('Inferred reproductive number is', result.R_naught)\n",
    "print('Inferred incubation period is', result.incubation_period)\n",
    "print('Inferred infectious time is', result.infectious_time)\n",
    "print('Converged in', time.CPU_time, 's and', time.iterations, 'iterations')"
   ]
  }
 ],
 "metadata": {
  "kernelspec": {
   "display_name": "Python 3",
   "language": "python",
   "name": "python3"
  },
  "language_info": {
   "codemirror_mode": {
    "name": "ipython",
    "version": 3
   },
   "file_extension": ".py",
   "mimetype": "text/x-python",
   "name": "python",
   "nbconvert_exporter": "python",
   "pygments_lexer": "ipython3",
   "version": "3.8.8"
  }
 },
 "nbformat": 4,
 "nbformat_minor": 2
}
